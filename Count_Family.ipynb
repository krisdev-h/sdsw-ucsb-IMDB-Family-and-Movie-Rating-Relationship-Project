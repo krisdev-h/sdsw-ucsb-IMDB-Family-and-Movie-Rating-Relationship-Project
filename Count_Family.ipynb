{
 "cells": [
  {
   "cell_type": "code",
   "execution_count": 1,
   "id": "9b19d769",
   "metadata": {},
   "outputs": [],
   "source": [
    "import numpy as np\n",
    "import pandas as pd"
   ]
  },
  {
   "cell_type": "code",
   "execution_count": 2,
   "id": "fbcc8bbc",
   "metadata": {},
   "outputs": [],
   "source": [
    "Full_Animation = pd.read_csv(\"Full_Animation.csv\")\n",
    "Full_Drama = pd.read_csv(\"Full_Drama.csv\")\n",
    "Full_Horror = pd.read_csv(\"Full_Horror.csv\")\n",
    "Full_Superhero = pd.read_csv(\"Full_Superhero.csv\")\n",
    "\n",
    "total = pd.concat([Full_Animation,Full_Drama,Full_Horror,Full_Superhero])\n",
    "\n",
    "total = total.drop(columns = \"Index\").reset_index()"
   ]
  },
  {
   "cell_type": "code",
   "execution_count": null,
   "id": "2889ab73",
   "metadata": {},
   "outputs": [],
   "source": []
  },
  {
   "cell_type": "code",
   "execution_count": 3,
   "id": "3bea533d",
   "metadata": {},
   "outputs": [],
   "source": [
    "def non_family_movies(synopsis_list):\n",
    "    all_indices = list(range(0,len(synopsis_list)))\n",
    "\n",
    "    # The indices of the synopses that contain any of the keywords\n",
    "    match_index_list = []\n",
    "\n",
    "    keywords = [\"family\", \"parenting\", \"father\", \"mother\", \"son\", \"daughter\", \"sibling\", \"brother\", \"sister\", \"marriage\", \"divorce\", \"blended family\", \"adoption\",\n",
    "                \"foster care\", \"custody\", \"inheritance\", \"legacy\", \"generations\", \"multigenerational\", \"family reunion\", \"family secrets\", \"family drama\", \"dysfunctional\", \n",
    "                \"dysfunctional family\", \"family conflict\", \"family relationships\", \"family values\", \"family ties\", \"parent-child relationship\", \"relationship\",\n",
    "                \"coming-of-age\", \"parenthood\", \"growing up\", \"childhood\", \"teenage years\", \"aging parents\", \"grandparents\"]\n",
    "\n",
    "    for i in range(len(synopsis_list)):\n",
    "        for keyword in keywords:\n",
    "            if keyword in synopsis_list[i]:\n",
    "                if i not in match_index_list:\n",
    "                    match_index_list.append(i)\n",
    "    \n",
    "    non_match_index = [index for index in all_indices if index not in match_index_list]\n",
    "\n",
    "    return non_match_index\n"
   ]
  },
  {
   "cell_type": "code",
   "execution_count": 4,
   "id": "803b68ad",
   "metadata": {},
   "outputs": [],
   "source": [
    "def Bar_Family(synopsis):\n",
    "    \n",
    "    word_list = synopsis.split()\n",
    "    \n",
    "    keywords = [\"family\", \"parenting\", \"father\", \"mother\", \"son\", \"daughter\", \"sibling\", \"brother\", \"sister\", \"marriage\", \"divorce\", \"blended family\", \"adoption\",\n",
    "                \"foster care\", \"custody\", \"inheritance\", \"legacy\", \"generations\", \"multigenerational\", \"family reunion\", \"family secrets\", \"family drama\", \"dysfunctional\", \n",
    "                \"dysfunctional family\", \"family conflict\", \"family relationships\", \"family values\", \"family ties\", \"parent-child relationship\", \"relationship\",\n",
    "                \"coming-of-age\", \"parenthood\", \"growing up\", \"childhood\", \"teenage years\", \"aging parents\", \"grandparents\"]\n",
    "    \n",
    "    count = 0\n",
    "    for i in range(len(word_list)):\n",
    "        for keyword in keywords:\n",
    "            if keyword in word_list[i]:\n",
    "                count +=1\n",
    "    \n",
    "    if count >=10:\n",
    "        return True\n",
    "    else:\n",
    "        return False\n",
    "                \n",
    "                \n",
    "                "
   ]
  },
  {
   "cell_type": "code",
   "execution_count": 5,
   "id": "1cb4cb90",
   "metadata": {},
   "outputs": [],
   "source": [
    "def append_bar(some_DF):\n",
    "    i=0\n",
    "    some_DF[\"Family\"] = ...\n",
    "    for i in range(len(some_DF)):\n",
    "        if Bar_Family(some_DF.loc[i,\"Synopsis\"]):\n",
    "            some_DF.at[i,\"Family\"] = \"Yes\"\n",
    "        else: some_DF.at[i,\"Family\"] = \"No\""
   ]
  },
  {
   "cell_type": "code",
   "execution_count": 6,
   "id": "3b1bfaee",
   "metadata": {},
   "outputs": [],
   "source": [
    "append_bar(total)\n"
   ]
  },
  {
   "cell_type": "code",
   "execution_count": 7,
   "id": "ab5f2c63",
   "metadata": {},
   "outputs": [
    {
     "data": {
      "text/plain": [
       "Yes    164\n",
       "No     134\n",
       "Name: Family, dtype: int64"
      ]
     },
     "execution_count": 7,
     "metadata": {},
     "output_type": "execute_result"
    }
   ],
   "source": [
    "total[\"Family\"].value_counts()"
   ]
  }
 ],
 "metadata": {
  "kernelspec": {
   "display_name": "Python 3",
   "language": "python",
   "name": "python3"
  },
  "language_info": {
   "codemirror_mode": {
    "name": "ipython",
    "version": 3
   },
   "file_extension": ".py",
   "mimetype": "text/x-python",
   "name": "python",
   "nbconvert_exporter": "python",
   "pygments_lexer": "ipython3",
   "version": "3.8.8"
  }
 },
 "nbformat": 4,
 "nbformat_minor": 5
}
