{
 "cells": [
  {
   "cell_type": "code",
   "execution_count": 1,
   "metadata": {},
   "outputs": [
    {
     "name": "stderr",
     "output_type": "stream",
     "text": [
      "/var/folders/lt/kt7cc6ms1zx9vzhwyplw4m_m0000gn/T/ipykernel_38640/2284840021.py:49: DeprecationWarning: executable_path has been deprecated, please pass in a Service object\n",
      "  driver = webdriver.Chrome('/Users/nixoncarino/Desktop/chromedriver')\n"
     ]
    }
   ],
   "source": [
    "import requests\n",
    "from bs4 import BeautifulSoup\n",
    "import pandas as pd\n",
    "from selenium import webdriver\n",
    "from selenium.webdriver.common.by import By\n",
    "\n",
    "\n",
    "\n",
    "webpage = \"https://www.imdb.com/search/title/?title_type=feature&genres=animation&view=simple&ref_=adv_prv\"\n",
    "response = requests.get(webpage)\n",
    "\n",
    "page = response.text\n",
    "\n",
    "soup = BeautifulSoup(page, 'html.parser')\n",
    "\n",
    "url_list = []\n",
    "movie_url_list = []\n",
    "movie_ref_nums = []\n",
    "\n",
    "# Get all the hyperlinks\n",
    "for link in soup.find_all('a'):\n",
    "    url_list.append(link.get('href'))\n",
    "\n",
    "# Filter to get movie title hyperlinks\n",
    "for url in url_list:\n",
    "    if '/title/tt' in url:\n",
    "        if url not in movie_url_list:\n",
    "            movie_url_list.append(url) \n",
    "\n",
    "# Take the reference number from the movie url\n",
    "for movie_url in movie_url_list:\n",
    "    movie_ref_nums.append(movie_url[7:16])\n",
    "\n",
    "###########################################################################\n",
    "\n",
    "# Extract the synopsis from every movie then append to a list\n",
    "\n",
    "synopsis_list = []\n",
    "\n",
    "'''\n",
    "For this to work, you need to download ChromeDriver using this link: https://sites.google.com/chromium.org/driver/\n",
    "then change the pathname of the driver to where the chromedriver is located in your device. If you're using an apple device\n",
    "you might have to go to system preferences then security & privacy then change some settings to allow your system to \n",
    "open the ChromeDriver.\n",
    "\n",
    "Note: Running this will take approximately 3-4 mins since we have 50 movies per link.\n",
    "'''\n",
    "\n",
    "driver = webdriver.Chrome('~/chromedriver')\n",
    "\n",
    "for i in movie_ref_nums:\n",
    "    url = \"https://www.imdb.com/title/\" + i + \"/plotsummary/?ref_=tt_stry_pl#synopsis\"\n",
    "    try:\n",
    "        driver.get(url)\n",
    "        synopsis_element = driver.find_element(By.XPATH, '//*[@id=\"__next\"]/main/div/section/div/section/div/div[1]/section[2]/div[2]/ul/li/div/div/div/div/div')\n",
    "    except:\n",
    "        synopsis_list.append(\"No Synopsis\")\n",
    "        # print(\"No Synopsis\")\n",
    "    else:\n",
    "        synopsis = synopsis_element.text\n",
    "        # print(synopsis)\n",
    "        synopsis_list.append(synopsis)\n",
    "\n",
    "#print(synopsis_list)\n"
   ]
  }
 ],
 "metadata": {
  "kernelspec": {
   "display_name": "Python 3.9.13 ('base')",
   "language": "python",
   "name": "python3"
  },
  "language_info": {
   "codemirror_mode": {
    "name": "ipython",
    "version": 3
   },
   "file_extension": ".py",
   "mimetype": "text/x-python",
   "name": "python",
   "nbconvert_exporter": "python",
   "pygments_lexer": "ipython3",
   "version": "3.9.13"
  },
  "orig_nbformat": 4,
  "vscode": {
   "interpreter": {
    "hash": "90425196080d3872eb45006ca5618c1edffd1daf3c8f844b64251cd837b5e648"
   }
  }
 },
 "nbformat": 4,
 "nbformat_minor": 2
}
